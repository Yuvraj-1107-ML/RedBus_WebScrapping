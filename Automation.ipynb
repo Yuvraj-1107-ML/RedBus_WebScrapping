{
 "cells": [
  {
   "cell_type": "code",
   "execution_count": null,
   "id": "ec0ab78e",
   "metadata": {},
   "outputs": [],
   "source": [
    "from selenium import webdriver\n",
    "from selenium.webdriver.common.by import By\n",
    "from selenium.webdriver.common.action_chains import ActionChains\n",
    "from selenium.webdriver.common.keys import Keys\n",
    "from selenium.webdriver.support.ui import WebDriverWait\n",
    "from selenium.webdriver.support import expected_conditions as EC\n",
    "from selenium.common.exceptions import NoSuchElementException\n",
    "import time\n",
    "import pandas as pd\n",
    "\n",
    "# Initialize driver\n",
    "def initialize_driver():\n",
    "    driver = webdriver.Chrome()\n",
    "    driver.maximize_window()\n",
    "    return driver\n",
    "\n",
    "# Open RedBus and navigate to APSRTC Hyderabad to Vijayawada route\n",
    "def open_redbus_and_navigate(driver):\n",
    "    driver.get(\"https://www.redbus.in\")\n",
    "    wait = WebDriverWait(driver, 20)\n",
    "\n",
    "    # Close popup if appears\n",
    "    time.sleep(2)\n",
    "    try:\n",
    "        close_popup = driver.find_element(By.CLASS_NAME, 'icon-close')\n",
    "        close_popup.click()\n",
    "        print(\"Popup closed\")\n",
    "    except:\n",
    "        pass\n",
    "\n",
    "    # Click APSRTC filter\n",
    "    apsrtc = wait.until(EC.element_to_be_clickable((By.XPATH, \"//span[text()='APSRTC']\")))\n",
    "    apsrtc.click()\n",
    "    time.sleep(5)\n",
    "\n",
    "\n",
    "    hyd_vij = wait.until(EC.element_to_be_clickable((By.XPATH, \"//a[@title='Hyderabad to Vijayawada']\")))\n",
    "    hyd_vij.click()\n",
    "    time.sleep(5)\n",
    "\n",
    "    apsrtc = wait.until(EC.element_to_be_clickable((By.XPATH, \"//span[text()='APSRTC Buses']\")))\n",
    "    apsrtc.click()\n",
    "    time.sleep(5)\n",
    "\n",
    "# Scroll down till \"End of list\" is found\n",
    "def scroll_until_end_with_page_source(driver):\n",
    "    scrolling = True\n",
    "    while scrolling:\n",
    "        old_page_source = driver.page_source\n",
    "        \n",
    "        # Perform PAGE_DOWN using ActionChains\n",
    "        ActionChains(driver).send_keys(Keys.PAGE_DOWN).perform()\n",
    "        \n",
    "        time.sleep(3)  # Adjust as per page load speed\n",
    "        \n",
    "        new_page_source = driver.page_source\n",
    "        \n",
    "        if new_page_source == old_page_source:\n",
    "            print(\"Reached end of list.\")\n",
    "            scrolling = False\n",
    "\n",
    "# Scrape bus details from current page\n",
    "def scrape_bus_details(driver):\n",
    "    wait = WebDriverWait(driver, 10)\n",
    "\n",
    "    scroll_until_end_with_page_source(driver)\n",
    "                                      # Call scrolling before scraping\n",
    "\n",
    "    bus_cards = driver.find_elements(By.XPATH, \"//li[contains(@class,'tupleWrapper')]\")\n",
    "    print(f\"{len(bus_cards)} buses found.\")\n",
    "\n",
    "    bus_details = []\n",
    "    for bus in bus_cards:\n",
    "    \n",
    "\n",
    "        try:\n",
    "            # Bus Name\n",
    "            name = bus.find_element(By.XPATH, \".//div[contains(@class,'travelsName')]\").text\n",
    "            bus_type = bus.find_element(By.XPATH, \".//p[contains(@class,'busType')]\").text\n",
    "            rating = bus.find_element(By.XPATH, \".//div[contains(@class,'rating')]\").text\n",
    "            price = bus.find_element(By.XPATH, \".//p[contains(@class,'finalFare')]\").text\n",
    "            duration  = bus.find_element(By.XPATH, \".//p[contains(@class,'duration')]\").text\n",
    "           \n",
    "            # review_date = bus.find_element(By.XPATH, \".//div[contains(@class,'date')]\").text\n",
    " \n",
    "            bus_detail = {\n",
    "                \"Bus Name\": name,\n",
    "                \"Operator Name\": bus_type,\n",
    "                \"Duration\": duration,\n",
    "                \"Review\": rating,\n",
    "                \"Price\": price\n",
    "            }\n",
    "            bus_details.append(bus_detail)\n",
    "        except Exception as e:\n",
    "            print(f\"Error occurred: {e}\")\n",
    "\n",
    "    return bus_details\n",
    "\n",
    "# Main execution\n",
    "driver = initialize_driver()\n",
    "open_redbus_and_navigate(driver)\n",
    "\n",
    "all_bus_details = scrape_bus_details(driver)\n",
    "\n",
    "# Convert to DataFrame and save\n",
    "df = pd.DataFrame(all_bus_details)\n",
    "df.to_csv('test_scrapped.csv', index=False)\n",
    "print(\"Data saved \")\n",
    "\n",
    "driver.quit()\n"
   ]
  },
  {
   "cell_type": "code",
   "execution_count": null,
   "id": "159386d7",
   "metadata": {},
   "outputs": [],
   "source": [
    "import pymysql"
   ]
  },
  {
   "cell_type": "code",
   "execution_count": null,
   "id": "f65175a2",
   "metadata": {},
   "outputs": [],
   "source": [
    "con= pymysql.connect(\n",
    "    host=\"localhost\",\n",
    "    user=\"root\",\n",
    "    password=\"12345\",\n",
    "    autocommit=True\n",
    "    )"
   ]
  },
  {
   "cell_type": "code",
   "execution_count": null,
   "id": "e637885c",
   "metadata": {},
   "outputs": [],
   "source": [
    "mycursor=con.cursor()"
   ]
  },
  {
   "cell_type": "code",
   "execution_count": null,
   "id": "4b77a1c5",
   "metadata": {},
   "outputs": [],
   "source": [
    "mycursor.execute(\"CREATE DATABASE Bus_Details\")"
   ]
  },
  {
   "cell_type": "code",
   "execution_count": null,
   "id": "b327addc",
   "metadata": {},
   "outputs": [],
   "source": [
    "mycursor.execute(\"SHOW DATABASES\")\n",
    "for x in mycursor:\n",
    "    print(x)"
   ]
  },
  {
   "cell_type": "code",
   "execution_count": null,
   "id": "33c7c0f7",
   "metadata": {},
   "outputs": [],
   "source": [
    "mycursor.execute(\"USE bus_details\")"
   ]
  },
  {
   "cell_type": "code",
   "execution_count": null,
   "id": "8d617d64",
   "metadata": {},
   "outputs": [],
   "source": [
    "mycursor.execute(\"CREATE TABLE AP_bus ( id INT AUTO_INCREMENT PRIMARY KEY,bus_name VARCHAR(255),operator_name VARCHAR(255),duration VARCHAR(100),price VARCHAR(50),Rating FLOAT,No_Of_Ratings FLOAT,Review_Status VARCHAR(50))\")\n"
   ]
  },
  {
   "cell_type": "code",
   "execution_count": null,
   "id": "51f7f543",
   "metadata": {},
   "outputs": [],
   "source": []
  }
 ],
 "metadata": {
  "language_info": {
   "name": "python"
  }
 },
 "nbformat": 4,
 "nbformat_minor": 5
}
